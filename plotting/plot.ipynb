{
 "cells": [
  {
   "cell_type": "code",
   "execution_count": 1,
   "metadata": {},
   "outputs": [],
   "source": [
    "import matplotlib as mpl\n",
    "import matplotlib.pyplot as plt\n",
    "import numpy as np\n",
    "import mpld3\n",
    "%matplotlib inline"
   ]
  },
  {
   "cell_type": "code",
   "execution_count": 3,
   "metadata": {
    "tags": []
   },
   "outputs": [],
   "source": [
    "names = np.loadtxt(\"sorted_times.txt\", delimiter=' ', unpack=True, dtype=str, encoding=\"utf8\", usecols=0)\n",
    "null_index = np.where(names==\"null\")\n",
    "release_mean, release_sd, debug_mean, debug_sd = np.loadtxt(\"sorted_times.txt\", delimiter=' ', unpack=True, dtype=float, usecols=[1,2,3,4])"
   ]
  },
  {
   "cell_type": "code",
   "execution_count": 19,
   "metadata": {},
   "outputs": [],
   "source": [
    "def create_plot():\n",
    "    fig = plt.figure(figsize=(14, 20))\n",
    "    y_pos = np.arange(len(names))\n",
    "\n",
    "    def plot_x(ax, means, sds):\n",
    "        ax.set_xlabel(\"T-T0 [seconds]\")\n",
    "        ax.grid(axis=\"y\")\n",
    "        ax.margins(0)\n",
    "        start_vals = means - means[null_index] - sds/2.0\n",
    "        _ = ax.barh(y_pos, width=sds, left=start_vals)\n",
    "        _ = plt.yticks(y_pos, names, fontfamily=\"monospace\")\n",
    "\n",
    "    ax = fig.add_subplot(121)\n",
    "    plot_x(ax, debug_mean, debug_sd)\n",
    "    ax.set_title(\"Debug\")\n",
    "\n",
    "    ax = fig.add_subplot(122)\n",
    "    plot_x(ax, release_mean, release_sd)\n",
    "    ax.set_title(\"Release\")\n",
    "\n",
    "    fig.tight_layout()\n",
    "    mpld3.save_html(fig, \"figure.html\")\n",
    "    fig.savefig(\"figure.png\")\n",
    "\n",
    "# create_plot()"
   ]
  },
  {
   "cell_type": "code",
   "execution_count": null,
   "metadata": {},
   "outputs": [],
   "source": []
  }
 ],
 "metadata": {
  "kernelspec": {
   "display_name": "Python 3",
   "language": "python",
   "name": "python3"
  },
  "language_info": {
   "codemirror_mode": {
    "name": "ipython",
    "version": 3
   },
   "file_extension": ".py",
   "mimetype": "text/x-python",
   "name": "python",
   "nbconvert_exporter": "python",
   "pygments_lexer": "ipython3",
   "version": "3.7.6-final"
  }
 },
 "nbformat": 4,
 "nbformat_minor": 4
}